{
 "cells": [
  {
   "cell_type": "markdown",
   "metadata": {
    "id": "s5oU2Q5R3f3n"
   },
   "source": [
    "# Лабораторная №1\n",
    "## Гаджиев Шахин, КМБО-03-20"
   ]
  },
  {
   "cell_type": "markdown",
   "metadata": {},
   "source": [
    "Проверим, что у вас подключена возможность работы с SQL"
   ]
  },
  {
   "cell_type": "code",
   "execution_count": null,
   "metadata": {
    "colab": {
     "base_uri": "https://localhost:8080/",
     "height": 35
    },
    "id": "ct9OpQ853f3n",
    "outputId": "6cb052a8-85c2-470b-cd48-2ad7e046a050"
   },
   "outputs": [
    {
     "data": {
      "application/vnd.google.colaboratory.intrinsic+json": {
       "type": "string"
      },
      "text/plain": [
       "'Connected: @None'"
      ]
     },
     "execution_count": 1,
     "metadata": {},
     "output_type": "execute_result"
    }
   ],
   "source": [
    "%load_ext sql\n",
    "%sql sqlite://"
   ]
  },
  {
   "cell_type": "markdown",
   "metadata": {
    "id": "nMjULTOr3f3p"
   },
   "source": [
    "Создадим таблицу специальностей со следующими полями:\n",
    "1. id - уникальный идентификатор специальности\n",
    "2. Name - Специальность"
   ]
  },
  {
   "cell_type": "code",
   "execution_count": null,
   "metadata": {
    "colab": {
     "base_uri": "https://localhost:8080/"
    },
    "id": "ZjlRJsr63f3p",
    "outputId": "0661308e-4988-4db4-cf3e-f068fd35d83b"
   },
   "outputs": [
    {
     "name": "stdout",
     "output_type": "stream",
     "text": [
      " * sqlite://\n",
      "Done.\n",
      "Done.\n",
      "Done.\n"
     ]
    },
    {
     "data": {
      "text/plain": [
       "[]"
      ]
     },
     "execution_count": 2,
     "metadata": {},
     "output_type": "execute_result"
    }
   ],
   "source": [
    "%%sql \n",
    "drop table if exists Students;\n",
    "drop table if exists Specialities;\n",
    "\n",
    "CREATE TABLE Specialities\n",
    "(\n",
    "    id integer primary key, \n",
    "    Name varchar(50)\n",
    ");"
   ]
  },
  {
   "cell_type": "markdown",
   "metadata": {
    "id": "vNpV5jjw3f3q"
   },
   "source": [
    "Проверим, что таблица создана"
   ]
  },
  {
   "cell_type": "code",
   "execution_count": null,
   "metadata": {
    "colab": {
     "base_uri": "https://localhost:8080/",
     "height": 74
    },
    "id": "PHGSKu2-3f3q",
    "outputId": "2aa121c4-2895-4717-c289-bc94003afc14"
   },
   "outputs": [
    {
     "name": "stdout",
     "output_type": "stream",
     "text": [
      " * sqlite://\n",
      "Done.\n"
     ]
    },
    {
     "data": {
      "text/html": [
       "<table>\n",
       "    <thead>\n",
       "        <tr>\n",
       "            <th>id</th>\n",
       "            <th>Name</th>\n",
       "        </tr>\n",
       "    </thead>\n",
       "    <tbody>\n",
       "    </tbody>\n",
       "</table>"
      ],
      "text/plain": [
       "[]"
      ]
     },
     "execution_count": 3,
     "metadata": {},
     "output_type": "execute_result"
    }
   ],
   "source": [
    "%sql select * from Specialities"
   ]
  },
  {
   "cell_type": "markdown",
   "metadata": {
    "id": "NNU1lQAT3f3q"
   },
   "source": [
    "Заполним таблицу данными"
   ]
  },
  {
   "cell_type": "code",
   "execution_count": null,
   "metadata": {
    "colab": {
     "base_uri": "https://localhost:8080/"
    },
    "id": "ffoy8GBQ3f3r",
    "outputId": "7052a070-aa55-4c70-ca11-19610fe66b33"
   },
   "outputs": [
    {
     "name": "stdout",
     "output_type": "stream",
     "text": [
      " * sqlite://\n",
      "1 rows affected.\n",
      "1 rows affected.\n",
      "1 rows affected.\n",
      "1 rows affected.\n",
      "1 rows affected.\n",
      "1 rows affected.\n",
      "1 rows affected.\n"
     ]
    },
    {
     "data": {
      "text/plain": [
       "[]"
      ]
     },
     "execution_count": 4,
     "metadata": {},
     "output_type": "execute_result"
    }
   ],
   "source": [
    "%%sql\n",
    "insert Into Specialities(id, name) values (1, 'Биотехнические системы и технологии');\n",
    "insert Into Specialities(id, name) values (2, 'Компьютерная безопасность');\n",
    "insert Into Specialities(id, name) values (3, 'Прикладная математика и информатика');\n",
    "insert Into Specialities(id, name) values (4, 'Мехатроника и робототехника');\n",
    "insert Into Specialities(id, name) values (5, 'Системный анализ и управление');\n",
    "insert Into Specialities(id, name) values (6, 'Информационная безопасность телекоммуникационных систем');\n",
    "insert Into Specialities(id, name) values (7, 'Управление в технических системах');"
   ]
  },
  {
   "cell_type": "markdown",
   "metadata": {
    "id": "Nbtm_2rx3f3r"
   },
   "source": [
    "SQLite требует включение поддержки внешних ключей.\n",
    "Более подробно можно посмотреть [здесь](https://sqlite.org/foreignkeys.html)"
   ]
  },
  {
   "cell_type": "code",
   "execution_count": null,
   "metadata": {
    "colab": {
     "base_uri": "https://localhost:8080/"
    },
    "id": "QOcQJLCr3f3r",
    "outputId": "ad773a5e-c725-499d-9265-e4bdc88067c8"
   },
   "outputs": [
    {
     "name": "stdout",
     "output_type": "stream",
     "text": [
      " * sqlite://\n",
      "Done.\n"
     ]
    },
    {
     "data": {
      "text/plain": [
       "[]"
      ]
     },
     "execution_count": 5,
     "metadata": {},
     "output_type": "execute_result"
    }
   ],
   "source": [
    "%%sql\n",
    "PRAGMA foreign_keys = ON;"
   ]
  },
  {
   "cell_type": "markdown",
   "metadata": {
    "id": "CMPVyr0G3f3s"
   },
   "source": [
    "Создадим таблицу Студентов со следующими полями:\n",
    "1. Student_id - уникальный идентификатор студента\n",
    "2. Name - имя студента\n",
    "3. Second Name - фамилия студента\n",
    "4. Speciality - специальность студента\n",
    "5. StudyGroup - группа студента \n",
    "6. GPA - средний балл"
   ]
  },
  {
   "cell_type": "code",
   "execution_count": null,
   "metadata": {
    "colab": {
     "base_uri": "https://localhost:8080/"
    },
    "id": "iH4QwAPL3f3s",
    "outputId": "d851c020-98fd-4ac8-b97c-b43429f0af0f"
   },
   "outputs": [
    {
     "name": "stdout",
     "output_type": "stream",
     "text": [
      " * sqlite://\n",
      "Done.\n",
      "Done.\n"
     ]
    },
    {
     "data": {
      "text/plain": [
       "[]"
      ]
     },
     "execution_count": 6,
     "metadata": {},
     "output_type": "execute_result"
    }
   ],
   "source": [
    "%%sql \n",
    "drop table if exists Students;\n",
    "\n",
    "CREATE TABLE Students \n",
    "(\n",
    "    student_id integer primary key, \n",
    "    Name varchar(50),\n",
    "    SecondName varchar(50),\n",
    "    Speciality_id integer ,\n",
    "    StudyGroup varchar(20),\n",
    "    GPA number,\n",
    "    foreign key(Speciality_id) references Specialities(id)\n",
    ");"
   ]
  },
  {
   "cell_type": "markdown",
   "metadata": {
    "id": "9hb9w8oC3f3s"
   },
   "source": [
    "Проверим, что таблица создана"
   ]
  },
  {
   "cell_type": "code",
   "execution_count": null,
   "metadata": {
    "colab": {
     "base_uri": "https://localhost:8080/",
     "height": 74
    },
    "id": "6IMmHj9J3f3s",
    "outputId": "c4cc8d03-09d9-4aa1-d062-cfc52dff7b69"
   },
   "outputs": [
    {
     "name": "stdout",
     "output_type": "stream",
     "text": [
      " * sqlite://\n",
      "Done.\n"
     ]
    },
    {
     "data": {
      "text/html": [
       "<table>\n",
       "    <thead>\n",
       "        <tr>\n",
       "            <th>student_id</th>\n",
       "            <th>Name</th>\n",
       "            <th>SecondName</th>\n",
       "            <th>Speciality_id</th>\n",
       "            <th>StudyGroup</th>\n",
       "            <th>GPA</th>\n",
       "        </tr>\n",
       "    </thead>\n",
       "    <tbody>\n",
       "    </tbody>\n",
       "</table>"
      ],
      "text/plain": [
       "[]"
      ]
     },
     "execution_count": 7,
     "metadata": {},
     "output_type": "execute_result"
    }
   ],
   "source": [
    "%sql select * from Students"
   ]
  },
  {
   "cell_type": "markdown",
   "metadata": {
    "id": "5rUU1gfv3f3t"
   },
   "source": [
    "Заполним таблице данными"
   ]
  },
  {
   "cell_type": "code",
   "execution_count": null,
   "metadata": {
    "colab": {
     "base_uri": "https://localhost:8080/"
    },
    "id": "PISGbGrC3f3t",
    "outputId": "9315932e-1c30-4f96-f3e2-896df1571578"
   },
   "outputs": [
    {
     "name": "stdout",
     "output_type": "stream",
     "text": [
      " * sqlite://\n",
      "1 rows affected.\n",
      "1 rows affected.\n",
      "1 rows affected.\n",
      "1 rows affected.\n",
      "1 rows affected.\n",
      "1 rows affected.\n",
      "1 rows affected.\n",
      "1 rows affected.\n",
      "1 rows affected.\n",
      "1 rows affected.\n",
      "1 rows affected.\n",
      "1 rows affected.\n",
      "1 rows affected.\n",
      "1 rows affected.\n"
     ]
    },
    {
     "data": {
      "text/plain": [
       "[]"
      ]
     },
     "execution_count": 8,
     "metadata": {},
     "output_type": "execute_result"
    }
   ],
   "source": [
    "%%sql\n",
    "insert into Students(student_id, SecondName, Name, Speciality_id, StudyGroup, GPA) VALUES (1, 'Альянов', 'Николай', 1, '04-20', 3.58);\n",
    "insert into Students(student_id, SecondName, Name, Speciality_id, StudyGroup, GPA) VALUES (2, 'Крыгина', 'Екатерина', 1, '01-20', 4.58);\n",
    "insert into Students(student_id, SecondName, Name, Speciality_id, StudyGroup, GPA) VALUES (3, 'Исаева', 'Анна', 1, '01-20', 4.75);\n",
    "insert into Students(student_id, SecondName, Name, Speciality_id, StudyGroup, GPA) VALUES (4, 'Егоров', 'Павел', 2, '01-20', 4.83);\n",
    "insert into Students(student_id, SecondName, Name, Speciality_id, StudyGroup, GPA) VALUES (5, 'Тихомиров', 'Тимофей', 2, '03-20', 4.18);\n",
    "insert into Students(student_id, SecondName, Name, Speciality_id, StudyGroup, GPA) VALUES (6, 'Ширшов', 'Александр', 2, '06-20', 3.91);\n",
    "insert into Students(student_id, SecondName, Name, Speciality_id, StudyGroup, GPA) VALUES (7, 'Фатеев', 'Максим', 3, '05-20', 3.8);\n",
    "insert into Students(student_id, SecondName, Name, Speciality_id, StudyGroup, GPA) VALUES (8, 'Киселев', 'Петр',  3, '05-20', 3.5);\n",
    "insert into Students(student_id, SecondName, Name, Speciality_id, StudyGroup, GPA) VALUES (9, 'Агашкина', 'Дарья', 4, '02-20', 4.18);\n",
    "insert into Students(student_id, SecondName, Name, Speciality_id, StudyGroup, GPA) VALUES (10, 'Горин', 'Олег', 5, '01-20', 3.89);\n",
    "insert into Students(student_id, SecondName, Name, Speciality_id, StudyGroup, GPA) VALUES (11, 'Комарова', 'Виктория', 6, '02-20', 4.83);\n",
    "insert into Students(student_id, SecondName, Name, Speciality_id, StudyGroup, GPA) VALUES (12, 'Челыхов', 'Иван', 6, '06-20', 4.45);\n",
    "insert into Students(student_id, SecondName, Name, Speciality_id, StudyGroup, GPA) VALUES (13, 'Назаров', 'Александр', 6, '06-20', 3.73);\n",
    "insert into Students(student_id, SecondName, Name, Speciality_id, StudyGroup, GPA) VALUES (14, 'Горлова', 'Ксения', 7, '01-20', 5);"
   ]
  },
  {
   "cell_type": "markdown",
   "metadata": {
    "id": "ikX4Z-jW3f3t"
   },
   "source": [
    "Проверим наличие данных"
   ]
  },
  {
   "cell_type": "code",
   "execution_count": null,
   "metadata": {
    "colab": {
     "base_uri": "https://localhost:8080/",
     "height": 367
    },
    "id": "eq9zXRxN3f3u",
    "outputId": "9499f7ee-98f2-4731-8792-12daa78856f6"
   },
   "outputs": [
    {
     "name": "stdout",
     "output_type": "stream",
     "text": [
      " * sqlite://\n",
      "Done.\n"
     ]
    },
    {
     "data": {
      "text/html": [
       "<table>\n",
       "    <thead>\n",
       "        <tr>\n",
       "            <th>student_id</th>\n",
       "            <th>Name</th>\n",
       "            <th>SecondName</th>\n",
       "            <th>Speciality_id</th>\n",
       "            <th>StudyGroup</th>\n",
       "            <th>GPA</th>\n",
       "        </tr>\n",
       "    </thead>\n",
       "    <tbody>\n",
       "        <tr>\n",
       "            <td>1</td>\n",
       "            <td>Николай</td>\n",
       "            <td>Альянов</td>\n",
       "            <td>1</td>\n",
       "            <td>04-20</td>\n",
       "            <td>3.58</td>\n",
       "        </tr>\n",
       "        <tr>\n",
       "            <td>2</td>\n",
       "            <td>Екатерина</td>\n",
       "            <td>Крыгина</td>\n",
       "            <td>1</td>\n",
       "            <td>01-20</td>\n",
       "            <td>4.58</td>\n",
       "        </tr>\n",
       "        <tr>\n",
       "            <td>3</td>\n",
       "            <td>Анна</td>\n",
       "            <td>Исаева</td>\n",
       "            <td>1</td>\n",
       "            <td>01-20</td>\n",
       "            <td>4.75</td>\n",
       "        </tr>\n",
       "        <tr>\n",
       "            <td>4</td>\n",
       "            <td>Павел</td>\n",
       "            <td>Егоров</td>\n",
       "            <td>2</td>\n",
       "            <td>01-20</td>\n",
       "            <td>4.83</td>\n",
       "        </tr>\n",
       "        <tr>\n",
       "            <td>5</td>\n",
       "            <td>Тимофей</td>\n",
       "            <td>Тихомиров</td>\n",
       "            <td>2</td>\n",
       "            <td>03-20</td>\n",
       "            <td>4.18</td>\n",
       "        </tr>\n",
       "        <tr>\n",
       "            <td>6</td>\n",
       "            <td>Александр</td>\n",
       "            <td>Ширшов</td>\n",
       "            <td>2</td>\n",
       "            <td>06-20</td>\n",
       "            <td>3.91</td>\n",
       "        </tr>\n",
       "        <tr>\n",
       "            <td>7</td>\n",
       "            <td>Максим</td>\n",
       "            <td>Фатеев</td>\n",
       "            <td>3</td>\n",
       "            <td>05-20</td>\n",
       "            <td>3.8</td>\n",
       "        </tr>\n",
       "        <tr>\n",
       "            <td>8</td>\n",
       "            <td>Петр</td>\n",
       "            <td>Киселев</td>\n",
       "            <td>3</td>\n",
       "            <td>05-20</td>\n",
       "            <td>3.5</td>\n",
       "        </tr>\n",
       "        <tr>\n",
       "            <td>9</td>\n",
       "            <td>Дарья</td>\n",
       "            <td>Агашкина</td>\n",
       "            <td>4</td>\n",
       "            <td>02-20</td>\n",
       "            <td>4.18</td>\n",
       "        </tr>\n",
       "        <tr>\n",
       "            <td>10</td>\n",
       "            <td>Олег</td>\n",
       "            <td>Горин</td>\n",
       "            <td>5</td>\n",
       "            <td>01-20</td>\n",
       "            <td>3.89</td>\n",
       "        </tr>\n",
       "        <tr>\n",
       "            <td>11</td>\n",
       "            <td>Виктория</td>\n",
       "            <td>Комарова</td>\n",
       "            <td>6</td>\n",
       "            <td>02-20</td>\n",
       "            <td>4.83</td>\n",
       "        </tr>\n",
       "        <tr>\n",
       "            <td>12</td>\n",
       "            <td>Иван</td>\n",
       "            <td>Челыхов</td>\n",
       "            <td>6</td>\n",
       "            <td>06-20</td>\n",
       "            <td>4.45</td>\n",
       "        </tr>\n",
       "        <tr>\n",
       "            <td>13</td>\n",
       "            <td>Александр</td>\n",
       "            <td>Назаров</td>\n",
       "            <td>6</td>\n",
       "            <td>06-20</td>\n",
       "            <td>3.73</td>\n",
       "        </tr>\n",
       "        <tr>\n",
       "            <td>14</td>\n",
       "            <td>Ксения</td>\n",
       "            <td>Горлова</td>\n",
       "            <td>7</td>\n",
       "            <td>01-20</td>\n",
       "            <td>5</td>\n",
       "        </tr>\n",
       "    </tbody>\n",
       "</table>"
      ],
      "text/plain": [
       "[(1, 'Николай', 'Альянов', 1, '04-20', 3.58),\n",
       " (2, 'Екатерина', 'Крыгина', 1, '01-20', 4.58),\n",
       " (3, 'Анна', 'Исаева', 1, '01-20', 4.75),\n",
       " (4, 'Павел', 'Егоров', 2, '01-20', 4.83),\n",
       " (5, 'Тимофей', 'Тихомиров', 2, '03-20', 4.18),\n",
       " (6, 'Александр', 'Ширшов', 2, '06-20', 3.91),\n",
       " (7, 'Максим', 'Фатеев', 3, '05-20', 3.8),\n",
       " (8, 'Петр', 'Киселев', 3, '05-20', 3.5),\n",
       " (9, 'Дарья', 'Агашкина', 4, '02-20', 4.18),\n",
       " (10, 'Олег', 'Горин', 5, '01-20', 3.89),\n",
       " (11, 'Виктория', 'Комарова', 6, '02-20', 4.83),\n",
       " (12, 'Иван', 'Челыхов', 6, '06-20', 4.45),\n",
       " (13, 'Александр', 'Назаров', 6, '06-20', 3.73),\n",
       " (14, 'Ксения', 'Горлова', 7, '01-20', 5)]"
      ]
     },
     "execution_count": 9,
     "metadata": {},
     "output_type": "execute_result"
    }
   ],
   "source": [
    "%sql select * from Students"
   ]
  },
  {
   "cell_type": "code",
   "execution_count": null,
   "metadata": {
    "colab": {
     "base_uri": "https://localhost:8080/",
     "height": 221
    },
    "id": "yYtrbXwa3f3u",
    "outputId": "05be21dc-6f62-4dc5-89bd-62d8789bbaec"
   },
   "outputs": [
    {
     "name": "stdout",
     "output_type": "stream",
     "text": [
      " * sqlite://\n",
      "Done.\n"
     ]
    },
    {
     "data": {
      "text/html": [
       "<table>\n",
       "    <thead>\n",
       "        <tr>\n",
       "            <th>id</th>\n",
       "            <th>Name</th>\n",
       "        </tr>\n",
       "    </thead>\n",
       "    <tbody>\n",
       "        <tr>\n",
       "            <td>1</td>\n",
       "            <td>Биотехнические системы и технологии</td>\n",
       "        </tr>\n",
       "        <tr>\n",
       "            <td>2</td>\n",
       "            <td>Компьютерная безопасность</td>\n",
       "        </tr>\n",
       "        <tr>\n",
       "            <td>3</td>\n",
       "            <td>Прикладная математика и информатика</td>\n",
       "        </tr>\n",
       "        <tr>\n",
       "            <td>4</td>\n",
       "            <td>Мехатроника и робототехника</td>\n",
       "        </tr>\n",
       "        <tr>\n",
       "            <td>5</td>\n",
       "            <td>Системный анализ и управление</td>\n",
       "        </tr>\n",
       "        <tr>\n",
       "            <td>6</td>\n",
       "            <td>Информационная безопасность телекоммуникационных систем</td>\n",
       "        </tr>\n",
       "        <tr>\n",
       "            <td>7</td>\n",
       "            <td>Управление в технических системах</td>\n",
       "        </tr>\n",
       "    </tbody>\n",
       "</table>"
      ],
      "text/plain": [
       "[(1, 'Биотехнические системы и технологии'),\n",
       " (2, 'Компьютерная безопасность'),\n",
       " (3, 'Прикладная математика и информатика'),\n",
       " (4, 'Мехатроника и робототехника'),\n",
       " (5, 'Системный анализ и управление'),\n",
       " (6, 'Информационная безопасность телекоммуникационных систем'),\n",
       " (7, 'Управление в технических системах')]"
      ]
     },
     "execution_count": 10,
     "metadata": {},
     "output_type": "execute_result"
    }
   ],
   "source": [
    "%sql select * from Specialities"
   ]
  },
  {
   "cell_type": "markdown",
   "metadata": {
    "id": "aC50VcAG3f3u"
   },
   "source": [
    "## Задание 1. Напишите SQL-запрос, возвращающий фамилии всех студентов с именем Александр"
   ]
  },
  {
   "cell_type": "code",
   "execution_count": null,
   "metadata": {
    "colab": {
     "base_uri": "https://localhost:8080/",
     "height": 116
    },
    "id": "LNHUYlRElNNm",
    "outputId": "9e207315-2da7-472a-d152-2304402f7a9b"
   },
   "outputs": [
    {
     "name": "stdout",
     "output_type": "stream",
     "text": [
      " * sqlite://\n",
      "Done.\n"
     ]
    },
    {
     "data": {
      "text/html": [
       "<table>\n",
       "    <thead>\n",
       "        <tr>\n",
       "            <th>SecondName</th>\n",
       "        </tr>\n",
       "    </thead>\n",
       "    <tbody>\n",
       "        <tr>\n",
       "            <td>Ширшов</td>\n",
       "        </tr>\n",
       "        <tr>\n",
       "            <td>Назаров</td>\n",
       "        </tr>\n",
       "    </tbody>\n",
       "</table>"
      ],
      "text/plain": [
       "[('Ширшов',), ('Назаров',)]"
      ]
     },
     "execution_count": 11,
     "metadata": {},
     "output_type": "execute_result"
    }
   ],
   "source": [
    "%%sql \n",
    "SELECT SecondName \n",
    "  FROM Students\n",
    "  WHERE Name = 'Александр';"
   ]
  },
  {
   "cell_type": "markdown",
   "metadata": {
    "id": "Hi4QfjHx3f3v"
   },
   "source": [
    "## Задание 2. Выведите все названия специальностей, на которых учится хотя бы один студент со средним баллом не менее 4. Имя специальности должно встречаться один раз в выводе"
   ]
  },
  {
   "cell_type": "code",
   "execution_count": null,
   "metadata": {
    "colab": {
     "base_uri": "https://localhost:8080/",
     "height": 179
    },
    "id": "RH5DOJz83f3v",
    "outputId": "7154de86-5763-4d39-be56-615345097a8d"
   },
   "outputs": [
    {
     "name": "stdout",
     "output_type": "stream",
     "text": [
      " * sqlite://\n",
      "Done.\n"
     ]
    },
    {
     "data": {
      "text/html": [
       "<table>\n",
       "    <thead>\n",
       "        <tr>\n",
       "            <th>Name</th>\n",
       "        </tr>\n",
       "    </thead>\n",
       "    <tbody>\n",
       "        <tr>\n",
       "            <td>Биотехнические системы и технологии</td>\n",
       "        </tr>\n",
       "        <tr>\n",
       "            <td>Компьютерная безопасность</td>\n",
       "        </tr>\n",
       "        <tr>\n",
       "            <td>Мехатроника и робототехника</td>\n",
       "        </tr>\n",
       "        <tr>\n",
       "            <td>Информационная безопасность телекоммуникационных систем</td>\n",
       "        </tr>\n",
       "        <tr>\n",
       "            <td>Управление в технических системах</td>\n",
       "        </tr>\n",
       "    </tbody>\n",
       "</table>"
      ],
      "text/plain": [
       "[('Биотехнические системы и технологии',),\n",
       " ('Компьютерная безопасность',),\n",
       " ('Мехатроника и робототехника',),\n",
       " ('Информационная безопасность телекоммуникационных систем',),\n",
       " ('Управление в технических системах',)]"
      ]
     },
     "execution_count": 12,
     "metadata": {},
     "output_type": "execute_result"
    }
   ],
   "source": [
    "%%sql\n",
    "SELECT Name\n",
    "  FROM Specialities\n",
    "  WHERE id in (SELECT DISTINCT Speciality_id\n",
    "                FROM Students\n",
    "                WHERE GPA >= 4)"
   ]
  },
  {
   "cell_type": "markdown",
   "metadata": {
    "collapsed": true,
    "id": "tjapuoH13f3v"
   },
   "source": [
    "## Задание 3. Вывести только тех студентов, фамилия которых начинается с 'К', а в имени присутствует 'е'."
   ]
  },
  {
   "cell_type": "code",
   "execution_count": null,
   "metadata": {
    "colab": {
     "base_uri": "https://localhost:8080/",
     "height": 116
    },
    "id": "W2u4PE-7GhE-",
    "outputId": "2647f6d6-bf9e-4f6b-d43e-665a21ddc5f9"
   },
   "outputs": [
    {
     "name": "stdout",
     "output_type": "stream",
     "text": [
      " * sqlite://\n",
      "Done.\n"
     ]
    },
    {
     "data": {
      "text/html": [
       "<table>\n",
       "    <thead>\n",
       "        <tr>\n",
       "            <th>student_id</th>\n",
       "        </tr>\n",
       "    </thead>\n",
       "    <tbody>\n",
       "        <tr>\n",
       "            <td>2</td>\n",
       "        </tr>\n",
       "        <tr>\n",
       "            <td>8</td>\n",
       "        </tr>\n",
       "    </tbody>\n",
       "</table>"
      ],
      "text/plain": [
       "[(2,), (8,)]"
      ]
     },
     "execution_count": 13,
     "metadata": {},
     "output_type": "execute_result"
    }
   ],
   "source": [
    "%%sql\n",
    "SELECT student_id\n",
    "  FROM Students\n",
    "  WHERE SecondName LIKE 'К%' AND Name LIKE '%е%'"
   ]
  },
  {
   "cell_type": "markdown",
   "metadata": {
    "id": "0TS2W3aV3f3v"
   },
   "source": [
    "## Задание 4. Вывести специальности (+ их средние баллы), количество групп в которых больше одной"
   ]
  },
  {
   "cell_type": "code",
   "execution_count": null,
   "metadata": {
    "colab": {
     "base_uri": "https://localhost:8080/",
     "height": 137
    },
    "id": "uRgmhus13f3w",
    "outputId": "53c02e19-9006-4101-dbf2-0d43b17cbc25"
   },
   "outputs": [
    {
     "name": "stdout",
     "output_type": "stream",
     "text": [
      " * sqlite://\n",
      "Done.\n"
     ]
    },
    {
     "data": {
      "text/html": [
       "<table>\n",
       "    <thead>\n",
       "        <tr>\n",
       "            <th>Name</th>\n",
       "            <th>GPA</th>\n",
       "        </tr>\n",
       "    </thead>\n",
       "    <tbody>\n",
       "        <tr>\n",
       "            <td>Биотехнические системы и технологии</td>\n",
       "            <td>4.75</td>\n",
       "        </tr>\n",
       "        <tr>\n",
       "            <td>Информационная безопасность телекоммуникационных систем</td>\n",
       "            <td>3.73</td>\n",
       "        </tr>\n",
       "        <tr>\n",
       "            <td>Компьютерная безопасность</td>\n",
       "            <td>3.91</td>\n",
       "        </tr>\n",
       "    </tbody>\n",
       "</table>"
      ],
      "text/plain": [
       "[('Биотехнические системы и технологии', 4.75),\n",
       " ('Информационная безопасность телекоммуникационных систем', 3.73),\n",
       " ('Компьютерная безопасность', 3.91)]"
      ]
     },
     "execution_count": 14,
     "metadata": {},
     "output_type": "execute_result"
    }
   ],
   "source": [
    "%%sql\n",
    "SELECT g.Name, s.GPA\n",
    "  FROM Specialities g, Students s\n",
    "  WHERE (g.id = s.Speciality_id)\n",
    "  GROUP BY g.Name\n",
    "  HAVING count(DISTINCT s.StudyGroup) > 1"
   ]
  },
  {
   "cell_type": "markdown",
   "metadata": {
    "id": "msNP-JhP3f3w"
   },
   "source": [
    "## Задание 5. Для всех специальностей вывести средний балл по специальности для студентов, в чьей фамилия вторая буква НЕ 'а', при условии, что количество таких студентов на специальности не менее 2. В обратном случае, специальность выводить не требуется"
   ]
  },
  {
   "cell_type": "code",
   "execution_count": null,
   "metadata": {
    "colab": {
     "base_uri": "https://localhost:8080/",
     "height": 137
    },
    "id": "BVNeRXhKU-c0",
    "outputId": "965db00e-b46a-4ab6-f6d7-3b56ac6c9f21"
   },
   "outputs": [
    {
     "name": "stdout",
     "output_type": "stream",
     "text": [
      " * sqlite://\n",
      "Done.\n"
     ]
    },
    {
     "data": {
      "text/html": [
       "<table>\n",
       "    <thead>\n",
       "        <tr>\n",
       "            <th>Name</th>\n",
       "            <th>GPA</th>\n",
       "        </tr>\n",
       "    </thead>\n",
       "    <tbody>\n",
       "        <tr>\n",
       "            <td>Биотехнические системы и технологии</td>\n",
       "            <td>4.75</td>\n",
       "        </tr>\n",
       "        <tr>\n",
       "            <td>Информационная безопасность телекоммуникационных систем</td>\n",
       "            <td>4.45</td>\n",
       "        </tr>\n",
       "        <tr>\n",
       "            <td>Компьютерная безопасность</td>\n",
       "            <td>3.91</td>\n",
       "        </tr>\n",
       "    </tbody>\n",
       "</table>"
      ],
      "text/plain": [
       "[('Биотехнические системы и технологии', 4.75),\n",
       " ('Информационная безопасность телекоммуникационных систем', 4.45),\n",
       " ('Компьютерная безопасность', 3.91)]"
      ]
     },
     "execution_count": 24,
     "metadata": {},
     "output_type": "execute_result"
    }
   ],
   "source": [
    "%%sql\n",
    "SELECT g.Name, s.GPA\n",
    "  FROM Specialities g, Students s\n",
    "  WHERE (g.id = s.Speciality_id) AND (s.SecondName not like '_а%')\n",
    "  GROUP BY g.Name\n",
    "  HAVING count(DISTINCT s.SecondName) > 1"
   ]
  },
  {
   "cell_type": "code",
   "execution_count": null,
   "metadata": {
    "colab": {
     "base_uri": "https://localhost:8080/",
     "height": 137
    },
    "id": "XvQ0SwGB3f3w",
    "outputId": "12a0a87e-896a-4b8f-dfaa-514c4703dc9b"
   },
   "outputs": [
    {
     "name": "stdout",
     "output_type": "stream",
     "text": [
      " * sqlite://\n",
      "Done.\n"
     ]
    },
    {
     "data": {
      "text/html": [
       "<table>\n",
       "    <thead>\n",
       "        <tr>\n",
       "            <th>name</th>\n",
       "            <th>GPA</th>\n",
       "        </tr>\n",
       "    </thead>\n",
       "    <tbody>\n",
       "        <tr>\n",
       "            <td>Биотехнические системы и технологии</td>\n",
       "            <td>4.75</td>\n",
       "        </tr>\n",
       "        <tr>\n",
       "            <td>Компьютерная безопасность</td>\n",
       "            <td>3.91</td>\n",
       "        </tr>\n",
       "        <tr>\n",
       "            <td>Информационная безопасность телекоммуникационных систем</td>\n",
       "            <td>4.45</td>\n",
       "        </tr>\n",
       "    </tbody>\n",
       "</table>"
      ],
      "text/plain": [
       "[('Биотехнические системы и технологии', 4.75),\n",
       " ('Компьютерная безопасность', 3.91),\n",
       " ('Информационная безопасность телекоммуникационных систем', 4.45)]"
      ]
     },
     "execution_count": 21,
     "metadata": {},
     "output_type": "execute_result"
    }
   ],
   "source": [
    "%%sql\n",
    "SELECT name, GPA \n",
    "FROM (SELECT id, name \n",
    "      FROM Specialities \n",
    "      WHERE id in (SELECT Speciality_id \n",
    "                   FROM (SELECT * \n",
    "                         FROM Students \n",
    "                         WHERE SecondName not like '_а%') \n",
    "                         GROUP BY Speciality_id \n",
    "                         HAVING count(SecondName)>1))\n",
    "\n",
    "JOIN (SELECT Speciality_id, GPA \n",
    "      FROM (SELECT * \n",
    "            FROM Students \n",
    "            WHERE SecondName not like '_а%') \n",
    "            GROUP BY Speciality_id \n",
    "            HAVING count(SecondName)>1)\n",
    "on id = Speciality_id"
   ]
  }
 ],
 "metadata": {
  "colab": {
   "collapsed_sections": [],
   "name": "\"Лабораторная-1.ipynb\"",
   "provenance": []
  },
  "kernelspec": {
   "display_name": "Python 3",
   "language": "python",
   "name": "python3"
  },
  "language_info": {
   "codemirror_mode": {
    "name": "ipython",
    "version": 3
   },
   "file_extension": ".py",
   "mimetype": "text/x-python",
   "name": "python",
   "nbconvert_exporter": "python",
   "pygments_lexer": "ipython3",
   "version": "3.8.8"
  }
 },
 "nbformat": 4,
 "nbformat_minor": 1
}
