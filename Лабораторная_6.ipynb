{
  "cells": [
    {
      "cell_type": "markdown",
      "source": [
        "# Лабораторная 2"
      ],
      "metadata": {
        "id": "rAwRANFWt2mM"
      }
    },
    {
      "cell_type": "markdown",
      "source": [
        "Задача: сделать оптимизацию select-запросов\n",
        "Перед выполнением загрузите файл database.zip и ctrl+F9"
      ],
      "metadata": {
        "id": "qTlTI41gvJus"
      }
    },
    {
      "cell_type": "markdown",
      "source": [
        "Код создания базы данных (для понимания, что в ней находится)\n",
        "\n",
        "```\n",
        "CREATE TABLE employees ( -- сотрудники компании\n",
        "    emp_no      INT             NOT NULL,\n",
        "    birth_date  DATE            NOT NULL,\n",
        "    first_name  VARCHAR(14)     NOT NULL,\n",
        "    last_name   VARCHAR(16)     NOT NULL,\n",
        "    gender      CHAR(2)         NOT NULL,    \n",
        "    hire_date   DATE            NOT NULL,\n",
        "    PRIMARY KEY (emp_no)\n",
        ");\n",
        "\n",
        "CREATE TABLE departments ( -- отделения\n",
        "    dept_no     CHAR(4)         NOT NULL,\n",
        "    dept_name   VARCHAR(40)     NOT NULL,\n",
        "    PRIMARY KEY (dept_no)\n",
        ");\n",
        "\n",
        "CREATE TABLE dept_manager ( -- менеджеры отделений\n",
        "   dept_no      CHAR(4)         NOT NULL,\n",
        "   emp_no       INT             NOT NULL,\n",
        "   from_date    DATE            NOT NULL,\n",
        "   to_date      DATE            NOT NULL,\n",
        "   FOREIGN KEY (emp_no)  REFERENCES employees (emp_no)    ON DELETE CASCADE,\n",
        "   FOREIGN KEY (dept_no) REFERENCES departments (dept_no) ON DELETE CASCADE,\n",
        "   PRIMARY KEY (emp_no,dept_no)\n",
        "); \n",
        "\n",
        "CREATE TABLE dept_emp (  -- связь сотрудников и отделений, даты работы\n",
        "    emp_no      INT             NOT NULL,\n",
        "    dept_no     CHAR(4)         NOT NULL,\n",
        "    from_date   DATE            NOT NULL,\n",
        "    to_date     DATE            NOT NULL,\n",
        "    FOREIGN KEY (emp_no)  REFERENCES employees   (emp_no)  ON DELETE CASCADE,\n",
        "    FOREIGN KEY (dept_no) REFERENCES departments (dept_no) ON DELETE CASCADE,\n",
        "    PRIMARY KEY (emp_no,dept_no)\n",
        ");\n",
        "\n",
        "CREATE TABLE titles ( -- должности\n",
        "    emp_no      INT             NOT NULL,\n",
        "    title       VARCHAR(50)     NOT NULL,\n",
        "    from_date   DATE            NOT NULL,\n",
        "    to_date     DATE,\n",
        "    FOREIGN KEY (emp_no) REFERENCES employees (emp_no) ON DELETE CASCADE,\n",
        "    PRIMARY KEY (emp_no,title, from_date)\n",
        "); \n",
        "\n",
        "CREATE TABLE salaries ( -- зарплаты\n",
        "    emp_no      INT             NOT NULL,\n",
        "    salary      INT             NOT NULL,\n",
        "    from_date   DATE            NOT NULL,\n",
        "    to_date     DATE            NOT NULL,\n",
        "    FOREIGN KEY (emp_no) REFERENCES employees (emp_no) ON DELETE CASCADE,\n",
        "    PRIMARY KEY (emp_no, from_date)\n",
        "); \n",
        "```"
      ],
      "metadata": {
        "id": "yWhdxPTztgQ5"
      }
    },
    {
      "cell_type": "code",
      "source": [
        "import zipfile\n",
        "\n",
        "with zipfile.ZipFile('database.zip') as zf:\n",
        "    zf.extractall()"
      ],
      "metadata": {
        "id": "_08dg8eVgIbO"
      },
      "execution_count": null,
      "outputs": []
    },
    {
      "cell_type": "code",
      "source": [
        "%load_ext sql\n",
        "%sql sqlite:///database.db"
      ],
      "metadata": {
        "id": "EYeFjWb_g85C",
        "colab": {
          "base_uri": "https://localhost:8080/",
          "height": 35
        },
        "outputId": "b66c3385-fac1-433b-c4b9-5376235e2582"
      },
      "execution_count": null,
      "outputs": [
        {
          "output_type": "execute_result",
          "data": {
            "text/plain": [
              "'Connected: @database.db'"
            ],
            "application/vnd.google.colaboratory.intrinsic+json": {
              "type": "string"
            }
          },
          "metadata": {},
          "execution_count": 2
        }
      ]
    },
    {
      "cell_type": "markdown",
      "source": [
        "1. Выбрать имена сотрудников с датой рождения до 1 января 1980 года или с должностью помощника инженера "
      ],
      "metadata": {
        "id": "Tp-v2hmYxmDf"
      }
    },
    {
      "cell_type": "code",
      "source": [
        "%%time\n",
        "%%sql\n",
        "SELECT distinct first_name, last_name FROM employees e\n",
        "INNER JOIN salaries s\n",
        "    ON s.emp_no = e.emp_no \n",
        "    WHERE (\n",
        "        (e.birth_date < '1980-01-01')\n",
        "        OR e.emp_no IN (\n",
        "        select emp_no from titles t\n",
        "            where t.title like 'Assistant%'\n",
        "            order by from_date)\n",
        "    )\n",
        "LIMIT 10"
      ],
      "metadata": {
        "colab": {
          "base_uri": "https://localhost:8080/",
          "height": 318
        },
        "id": "-G_JkKoo3spk",
        "outputId": "d4d9c68a-cffc-43f7-e69f-28c4d10a8028"
      },
      "execution_count": null,
      "outputs": [
        {
          "output_type": "stream",
          "name": "stdout",
          "text": [
            " * sqlite:///database.db\n",
            "Done.\n",
            "CPU times: user 6.12 ms, sys: 860 µs, total: 6.98 ms\n",
            "Wall time: 7.44 ms\n"
          ]
        },
        {
          "output_type": "execute_result",
          "data": {
            "text/plain": [
              "[('Georgi', 'Facello'),\n",
              " ('Bezalel', 'Simmel'),\n",
              " ('Parto', 'Bamford'),\n",
              " ('Chirstian', 'Koblick'),\n",
              " ('Kyoichi', 'Maliniak'),\n",
              " ('Anneke', 'Preusig'),\n",
              " ('Tzvetan', 'Zielinski'),\n",
              " ('Saniya', 'Kalloufi'),\n",
              " ('Sumant', 'Peac'),\n",
              " ('Duangkaew', 'Piveteau')]"
            ],
            "text/html": [
              "<table>\n",
              "    <thead>\n",
              "        <tr>\n",
              "            <th>first_name</th>\n",
              "            <th>last_name</th>\n",
              "        </tr>\n",
              "    </thead>\n",
              "    <tbody>\n",
              "        <tr>\n",
              "            <td>Georgi</td>\n",
              "            <td>Facello</td>\n",
              "        </tr>\n",
              "        <tr>\n",
              "            <td>Bezalel</td>\n",
              "            <td>Simmel</td>\n",
              "        </tr>\n",
              "        <tr>\n",
              "            <td>Parto</td>\n",
              "            <td>Bamford</td>\n",
              "        </tr>\n",
              "        <tr>\n",
              "            <td>Chirstian</td>\n",
              "            <td>Koblick</td>\n",
              "        </tr>\n",
              "        <tr>\n",
              "            <td>Kyoichi</td>\n",
              "            <td>Maliniak</td>\n",
              "        </tr>\n",
              "        <tr>\n",
              "            <td>Anneke</td>\n",
              "            <td>Preusig</td>\n",
              "        </tr>\n",
              "        <tr>\n",
              "            <td>Tzvetan</td>\n",
              "            <td>Zielinski</td>\n",
              "        </tr>\n",
              "        <tr>\n",
              "            <td>Saniya</td>\n",
              "            <td>Kalloufi</td>\n",
              "        </tr>\n",
              "        <tr>\n",
              "            <td>Sumant</td>\n",
              "            <td>Peac</td>\n",
              "        </tr>\n",
              "        <tr>\n",
              "            <td>Duangkaew</td>\n",
              "            <td>Piveteau</td>\n",
              "        </tr>\n",
              "    </tbody>\n",
              "</table>"
            ]
          },
          "metadata": {},
          "execution_count": 3
        }
      ]
    },
    {
      "cell_type": "code",
      "source": [
        "%%time\n",
        "%%sql\n",
        "SELECT first_name, last_name FROM employees e\n",
        "    WHERE birth_date < '1980-01-01'\n",
        "\n",
        "UNION\n",
        "\n",
        "SELECT first_name, last_name FROM employees e\n",
        "    WHERE (\n",
        "     e.emp_no IN (\n",
        "        select emp_no from titles t\n",
        "            where t.title like 'Assistant%')\n",
        "    )\n",
        "LIMIT 10"
      ],
      "metadata": {
        "colab": {
          "base_uri": "https://localhost:8080/",
          "height": 318
        },
        "id": "OjJ4Upbzx8YF",
        "outputId": "f94b4196-7f9e-4545-fb51-426e47b56251"
      },
      "execution_count": null,
      "outputs": [
        {
          "output_type": "stream",
          "name": "stdout",
          "text": [
            " * sqlite:///database.db\n",
            "Done.\n",
            "CPU times: user 2.83 ms, sys: 0 ns, total: 2.83 ms\n",
            "Wall time: 2.84 ms\n"
          ]
        },
        {
          "output_type": "execute_result",
          "data": {
            "text/plain": [
              "[('Georgi', 'Facello'),\n",
              " ('Bezalel', 'Simmel'),\n",
              " ('Parto', 'Bamford'),\n",
              " ('Chirstian', 'Koblick'),\n",
              " ('Kyoichi', 'Maliniak'),\n",
              " ('Anneke', 'Preusig'),\n",
              " ('Tzvetan', 'Zielinski'),\n",
              " ('Saniya', 'Kalloufi'),\n",
              " ('Sumant', 'Peac'),\n",
              " ('Duangkaew', 'Piveteau')]"
            ],
            "text/html": [
              "<table>\n",
              "    <thead>\n",
              "        <tr>\n",
              "            <th>first_name</th>\n",
              "            <th>last_name</th>\n",
              "        </tr>\n",
              "    </thead>\n",
              "    <tbody>\n",
              "        <tr>\n",
              "            <td>Georgi</td>\n",
              "            <td>Facello</td>\n",
              "        </tr>\n",
              "        <tr>\n",
              "            <td>Bezalel</td>\n",
              "            <td>Simmel</td>\n",
              "        </tr>\n",
              "        <tr>\n",
              "            <td>Parto</td>\n",
              "            <td>Bamford</td>\n",
              "        </tr>\n",
              "        <tr>\n",
              "            <td>Chirstian</td>\n",
              "            <td>Koblick</td>\n",
              "        </tr>\n",
              "        <tr>\n",
              "            <td>Kyoichi</td>\n",
              "            <td>Maliniak</td>\n",
              "        </tr>\n",
              "        <tr>\n",
              "            <td>Anneke</td>\n",
              "            <td>Preusig</td>\n",
              "        </tr>\n",
              "        <tr>\n",
              "            <td>Tzvetan</td>\n",
              "            <td>Zielinski</td>\n",
              "        </tr>\n",
              "        <tr>\n",
              "            <td>Saniya</td>\n",
              "            <td>Kalloufi</td>\n",
              "        </tr>\n",
              "        <tr>\n",
              "            <td>Sumant</td>\n",
              "            <td>Peac</td>\n",
              "        </tr>\n",
              "        <tr>\n",
              "            <td>Duangkaew</td>\n",
              "            <td>Piveteau</td>\n",
              "        </tr>\n",
              "    </tbody>\n",
              "</table>"
            ]
          },
          "metadata": {},
          "execution_count": 5
        }
      ]
    },
    {
      "cell_type": "markdown",
      "source": [
        "2. Выбрать сотрудников, в настоящее время работающие в отделах, где менеджеры мужчины"
      ],
      "metadata": {
        "id": "q7Pawkm24bdx"
      }
    },
    {
      "cell_type": "code",
      "source": [
        "%%time\n",
        "%%sql\n",
        "SELECT first_name, last_name FROM employees e \n",
        "INNER JOIN dept_emp d \n",
        "    ON d.emp_no = e.emp_no AND d.to_date = (SELECT MAX(to_date) from dept_emp)\n",
        "    WHERE d.dept_no in (\n",
        "    SELECT d.dept_no FROM employees e, dept_manager dm, departments d\n",
        "        WHERE e.emp_no = dm.emp_no AND dm.dept_no = d.dept_no \n",
        "        AND dm.to_date = (SELECT MAX(to_date) from dept_manager)\n",
        "        AND e.gender = 'M'\n",
        "        GROUP BY d.dept_no\n",
        "    )\n",
        "LIMIT 10"
      ],
      "metadata": {
        "id": "gSB-sMvFV8nK",
        "colab": {
          "base_uri": "https://localhost:8080/",
          "height": 318
        },
        "outputId": "b9ffadc2-311a-43a4-aca7-a1b62c910e7b"
      },
      "execution_count": null,
      "outputs": [
        {
          "output_type": "stream",
          "name": "stdout",
          "text": [
            " * sqlite:///database.db\n",
            "Done.\n",
            "CPU times: user 36.1 ms, sys: 4.88 ms, total: 40.9 ms\n",
            "Wall time: 43.2 ms\n"
          ]
        },
        {
          "output_type": "execute_result",
          "data": {
            "text/plain": [
              "[('Bezalel', 'Simmel'),\n",
              " ('Parto', 'Bamford'),\n",
              " ('Chirstian', 'Koblick'),\n",
              " ('Sumant', 'Peac'),\n",
              " ('Duangkaew', 'Piveteau'),\n",
              " ('Kazuhito', 'Cappelletti'),\n",
              " ('Cristinel', 'Bouloucos'),\n",
              " ('Kazuhide', 'Peha'),\n",
              " ('Mayuko', 'Warwick'),\n",
              " ('Suzette', 'Pettey')]"
            ],
            "text/html": [
              "<table>\n",
              "    <thead>\n",
              "        <tr>\n",
              "            <th>first_name</th>\n",
              "            <th>last_name</th>\n",
              "        </tr>\n",
              "    </thead>\n",
              "    <tbody>\n",
              "        <tr>\n",
              "            <td>Bezalel</td>\n",
              "            <td>Simmel</td>\n",
              "        </tr>\n",
              "        <tr>\n",
              "            <td>Parto</td>\n",
              "            <td>Bamford</td>\n",
              "        </tr>\n",
              "        <tr>\n",
              "            <td>Chirstian</td>\n",
              "            <td>Koblick</td>\n",
              "        </tr>\n",
              "        <tr>\n",
              "            <td>Sumant</td>\n",
              "            <td>Peac</td>\n",
              "        </tr>\n",
              "        <tr>\n",
              "            <td>Duangkaew</td>\n",
              "            <td>Piveteau</td>\n",
              "        </tr>\n",
              "        <tr>\n",
              "            <td>Kazuhito</td>\n",
              "            <td>Cappelletti</td>\n",
              "        </tr>\n",
              "        <tr>\n",
              "            <td>Cristinel</td>\n",
              "            <td>Bouloucos</td>\n",
              "        </tr>\n",
              "        <tr>\n",
              "            <td>Kazuhide</td>\n",
              "            <td>Peha</td>\n",
              "        </tr>\n",
              "        <tr>\n",
              "            <td>Mayuko</td>\n",
              "            <td>Warwick</td>\n",
              "        </tr>\n",
              "        <tr>\n",
              "            <td>Suzette</td>\n",
              "            <td>Pettey</td>\n",
              "        </tr>\n",
              "    </tbody>\n",
              "</table>"
            ]
          },
          "metadata": {},
          "execution_count": 6
        }
      ]
    },
    {
      "cell_type": "code",
      "source": [
        "%%time\n",
        "%%sql\n",
        "SELECT first_name, last_name FROM employees e \n",
        "INNER JOIN dept_emp d \n",
        "    ON d.emp_no = e.emp_no AND d.to_date = (SELECT MAX(to_date) from dept_emp)\n",
        "    WHERE d.dept_no in (SELECT distinct d.dept_no FROM departments d\n",
        "                        INNER JOIN dept_manager dm ON dm.dept_no = d.dept_no AND dm.to_date = (SELECT MAX(to_date) from dept_manager)\n",
        "                        INNER JOIN employees e ON e.emp_no = dm.emp_no AND e.gender = 'M'\n",
        "                        )\n",
        "LIMIT 10"
      ],
      "metadata": {
        "id": "oMr_6AL6BsGl",
        "colab": {
          "base_uri": "https://localhost:8080/",
          "height": 318
        },
        "outputId": "21cb8d1d-b925-4247-96d5-586cfc813e95"
      },
      "execution_count": null,
      "outputs": [
        {
          "output_type": "stream",
          "name": "stdout",
          "text": [
            " * sqlite:///database.db\n",
            "Done.\n",
            "CPU times: user 34.2 ms, sys: 3.7 ms, total: 37.9 ms\n",
            "Wall time: 38.6 ms\n"
          ]
        },
        {
          "output_type": "execute_result",
          "data": {
            "text/plain": [
              "[('Bezalel', 'Simmel'),\n",
              " ('Parto', 'Bamford'),\n",
              " ('Chirstian', 'Koblick'),\n",
              " ('Sumant', 'Peac'),\n",
              " ('Duangkaew', 'Piveteau'),\n",
              " ('Kazuhito', 'Cappelletti'),\n",
              " ('Cristinel', 'Bouloucos'),\n",
              " ('Kazuhide', 'Peha'),\n",
              " ('Mayuko', 'Warwick'),\n",
              " ('Suzette', 'Pettey')]"
            ],
            "text/html": [
              "<table>\n",
              "    <thead>\n",
              "        <tr>\n",
              "            <th>first_name</th>\n",
              "            <th>last_name</th>\n",
              "        </tr>\n",
              "    </thead>\n",
              "    <tbody>\n",
              "        <tr>\n",
              "            <td>Bezalel</td>\n",
              "            <td>Simmel</td>\n",
              "        </tr>\n",
              "        <tr>\n",
              "            <td>Parto</td>\n",
              "            <td>Bamford</td>\n",
              "        </tr>\n",
              "        <tr>\n",
              "            <td>Chirstian</td>\n",
              "            <td>Koblick</td>\n",
              "        </tr>\n",
              "        <tr>\n",
              "            <td>Sumant</td>\n",
              "            <td>Peac</td>\n",
              "        </tr>\n",
              "        <tr>\n",
              "            <td>Duangkaew</td>\n",
              "            <td>Piveteau</td>\n",
              "        </tr>\n",
              "        <tr>\n",
              "            <td>Kazuhito</td>\n",
              "            <td>Cappelletti</td>\n",
              "        </tr>\n",
              "        <tr>\n",
              "            <td>Cristinel</td>\n",
              "            <td>Bouloucos</td>\n",
              "        </tr>\n",
              "        <tr>\n",
              "            <td>Kazuhide</td>\n",
              "            <td>Peha</td>\n",
              "        </tr>\n",
              "        <tr>\n",
              "            <td>Mayuko</td>\n",
              "            <td>Warwick</td>\n",
              "        </tr>\n",
              "        <tr>\n",
              "            <td>Suzette</td>\n",
              "            <td>Pettey</td>\n",
              "        </tr>\n",
              "    </tbody>\n",
              "</table>"
            ]
          },
          "metadata": {},
          "execution_count": 7
        }
      ]
    }
  ],
  "metadata": {
    "celltoolbar": "Slideshow",
    "kernelspec": {
      "display_name": "Python 3",
      "language": "python",
      "name": "python3"
    },
    "language_info": {
      "codemirror_mode": {
        "name": "ipython",
        "version": 3
      },
      "file_extension": ".py",
      "mimetype": "text/x-python",
      "name": "python",
      "nbconvert_exporter": "python",
      "pygments_lexer": "ipython3",
      "version": "3.7.4"
    },
    "colab": {
      "name": "Лабораторная 2",
      "provenance": [],
      "collapsed_sections": []
    }
  },
  "nbformat": 4,
  "nbformat_minor": 0
}